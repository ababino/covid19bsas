{
 "cells": [
  {
   "cell_type": "code",
   "execution_count": null,
   "metadata": {},
   "outputs": [],
   "source": [
    "# default_exp core"
   ]
  },
  {
   "cell_type": "markdown",
   "metadata": {},
   "source": [
    "# core\n",
    "\n",
    "> functions to download data."
   ]
  },
  {
   "cell_type": "code",
   "execution_count": null,
   "metadata": {},
   "outputs": [],
   "source": [
    "#hide\n",
    "from nbdev.showdoc import *"
   ]
  },
  {
   "cell_type": "code",
   "execution_count": null,
   "metadata": {},
   "outputs": [],
   "source": [
    "#export\n",
    "import numpy as np\n",
    "import pandas as pd\n",
    "from fastcore.all import *\n",
    "from babino2020masks.lasso import *"
   ]
  },
  {
   "cell_type": "code",
   "execution_count": null,
   "metadata": {},
   "outputs": [],
   "source": [
    "#export\n",
    "def get_bsas_data():\n",
    "    df = pd.read_csv('https://cdn.buenosaires.gob.ar/datosabiertos/datasets/salud/reporte-covid/dataset_reporte_covid_sitio_gobierno.csv')\n",
    "    df['Date'] = pd.to_datetime(df.FECHA.map(lambda x:x[:2]+x[2:].capitalize()), format='%d%b%Y:00:00:00')\n",
    "    df = df.sort_values('Date')\n",
    "    df = df.loc[df.SUBTIPO_DATO.isin(['personas_hisopadas_reportados_del_dia_totales', '%_positividad_personas_hisopadas_reportadas_del_dia_totales']), ['Date', 'SUBTIPO_DATO', 'VALOR']]\n",
    "    df = df.set_index(['Date','SUBTIPO_DATO'])['VALOR'].unstack()\n",
    "    df = df.rename(columns={'personas_hisopadas_reportados_del_dia_totales': 'Tests', '%_positividad_personas_hisopadas_reportadas_del_dia_totales':'p'})\n",
    "    df.columns.name = ''\n",
    "    df.p = df.p*0.01\n",
    "    df['Positives'] = df.p*df.Tests\n",
    "    df['Negatives'] = df.Tests-df.Positives\n",
    "    df['Odds'] = df.Positives / df.Negatives\n",
    "    df = df.reset_index()\n",
    "    df['date'] = df.Date\n",
    "    df = df.set_index('date')\n",
    "    return df"
   ]
  },
  {
   "cell_type": "code",
   "execution_count": null,
   "metadata": {},
   "outputs": [],
   "source": [
    "#export\n",
    "def get_bsas_data2():\n",
    "    url = 'https://cdn.buenosaires.gob.ar/datosabiertos/datasets/salud/reporte-covid/dataset_reporte_covid_sitio_gobierno.xlsx'\n",
    "    df = pd.read_excel(url)\n",
    "    df = df.rename(columns={'FECHA': 'Date'}).sort_values('Date')\n",
    "    positives = df.loc[df.SUBTIPO_DATO.eq('casos_confirmados_reportados_del_dia'), ['Date', 'VALOR']]\n",
    "    positives = positives.groupby('Date')['VALOR'].sum().reset_index().rename(columns={'VALOR': 'Positives'})\n",
    "    tests = df.loc[df.SUBTIPO_DATO.eq('testeos_reportados_del_dia_totales'), ['Date', 'VALOR']]\n",
    "    tests = tests.rename(columns={'VALOR': 'Tests'})\n",
    "    df = tests.merge(positives, on='Date')\n",
    "    df['Negatives'] = df.Tests - df.Positives\n",
    "    df['Odds'] = df.Positives / df.Negatives\n",
    "    df['p'] = df.Positives / df.Tests\n",
    "    df['date'] = df.Date\n",
    "    df = df.set_index('date')\n",
    "    return df"
   ]
  },
  {
   "cell_type": "code",
   "execution_count": null,
   "metadata": {},
   "outputs": [],
   "source": [
    "#export\n",
    "@patch\n",
    "def fit(self:LassoICSelector, X, y, mask=None):\n",
    "    Xnew = self.transform_to_ols(X)\n",
    "    if mask is None: mask = np.array([True]*Xnew.shape[1])\n",
    "    Xnew = Xnew[:, mask]\n",
    "    self.ols = self.OLS(y, Xnew)\n",
    "    self.ols_results = self.ols.fit()   \n",
    "    mask[mask] = (self.ols_results.pvalues < self.alpha / len(self.ols_results.pvalues))\n",
    "    mask[0] = True\n",
    "    mask[-1] = True\n",
    "    if any(self.ols_results.pvalues[1:-1] >= self.alpha / len(self.ols_results.pvalues)): \n",
    "        self.fit(X, y, mask=mask)\n",
    "    self.support = self.selector.get_support()\n",
    "    self.support[self.support] = mask[:-1]"
   ]
  },
  {
   "cell_type": "code",
   "execution_count": null,
   "metadata": {},
   "outputs": [
    {
     "name": "stdout",
     "output_type": "stream",
     "text": [
      "Converted 00_core.ipynb.\n",
      "Converted index.ipynb.\n"
     ]
    }
   ],
   "source": [
    "from nbdev.export import notebook2script; notebook2script()"
   ]
  }
 ],
 "metadata": {
  "kernelspec": {
   "display_name": "Python 3",
   "language": "python",
   "name": "python3"
  }
 },
 "nbformat": 4,
 "nbformat_minor": 2
}
